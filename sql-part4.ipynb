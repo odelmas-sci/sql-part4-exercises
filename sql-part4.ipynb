{
    "metadata": {
        "kernelspec": {
            "name": "SQL",
            "display_name": "SQL",
            "language": "sql"
        },
        "language_info": {
            "name": "sql",
            "version": ""
        }
    },
    "nbformat_minor": 2,
    "nbformat": 4,
    "cells": [
        {
            "cell_type": "markdown",
            "source": [
                "# Exercises: Complex queries\n",
                "\n",
                "For the exercises, you are tasked with writing five queries that will help you delve deeper into BooksDB. You can choose whether you want to use a correlated subquery, a nested subquery, the UNION operator, the INTERSECT operator, or the EXCEPT operator for each one. You may not use joins or add multiple statements to the WHERE clause.\n",
                "\n",
                "1. Write a query that will return the number of users who rated a book above it's average rating."
            ],
            "metadata": {
                "azdata_cell_guid": "10006a10-882f-4f55-8d42-f36044fdb6c7"
            },
            "attachments": {}
        },
        {
            "cell_type": "code",
            "source": [
                "SELECT COUNT(user_id) AS 'Num of Users'\r\n",
                "FROM BooksDB.dbo.ratings AS r\r\n",
                "WHERE rating > \r\n",
                "              (SELECT average_rating\r\n",
                "               FROM BooksDB.dbo.books as b\r\n",
                "               WHERE b.best_book_id = r.book_id\r\n",
                "               );\r\n",
                "\r\n",
                "--CHECKING ABOVE CODE WITH INNER JOIN BELOW\r\n",
                "\r\n",
                "SELECT COUNT(r.user_id)\r\n",
                "FROM BooksDB.dbo.books as b \r\n",
                "JOIN BooksDB.dbo.ratings as r ON b.best_book_id = r.book_id\r\n",
                "WHERE b.average_rating < r.rating;\r\n",
                "\r\n",
                "\r\n",
                "--Mel's Code:\r\n",
                "SELECT COUNT(DISTINCT user_id) AS 'Optimistic Users'\r\n",
                "FROM BooksDB.dbo.ratings AS r\r\n",
                "WHERE rating > \r\n",
                "              (SELECT average_rating\r\n",
                "               FROM BooksDB.dbo.books as b\r\n",
                "               WHERE b.book_id = r.book_id\r\n",
                "               );"
            ],
            "metadata": {
                "azdata_cell_guid": "203eb95e-6585-435f-8a8e-bfa0dfe6f7c0",
                "tags": [],
                "language": "sql"
            },
            "outputs": [
                {
                    "output_type": "display_data",
                    "data": {
                        "text/html": "(1 row affected)"
                    },
                    "metadata": {}
                },
                {
                    "output_type": "display_data",
                    "data": {
                        "text/html": "(1 row affected)"
                    },
                    "metadata": {}
                },
                {
                    "output_type": "display_data",
                    "data": {
                        "text/html": "(1 row affected)"
                    },
                    "metadata": {}
                },
                {
                    "output_type": "display_data",
                    "data": {
                        "text/html": "Total execution time: 00:00:01.611"
                    },
                    "metadata": {}
                },
                {
                    "output_type": "execute_result",
                    "metadata": {},
                    "execution_count": 23,
                    "data": {
                        "application/vnd.dataresource+json": {
                            "schema": {
                                "fields": [
                                    {
                                        "name": "Num of Users"
                                    }
                                ]
                            },
                            "data": [
                                {
                                    "0": "40397"
                                }
                            ]
                        },
                        "text/html": [
                            "<table>",
                            "<tr><th>Num of Users</th></tr>",
                            "<tr><td>40397</td></tr>",
                            "</table>"
                        ]
                    }
                },
                {
                    "output_type": "execute_result",
                    "metadata": {},
                    "execution_count": 23,
                    "data": {
                        "application/vnd.dataresource+json": {
                            "schema": {
                                "fields": [
                                    {
                                        "name": "(No column name)"
                                    }
                                ]
                            },
                            "data": [
                                {
                                    "0": "40397"
                                }
                            ]
                        },
                        "text/html": [
                            "<table>",
                            "<tr><th>(No column name)</th></tr>",
                            "<tr><td>40397</td></tr>",
                            "</table>"
                        ]
                    }
                },
                {
                    "output_type": "execute_result",
                    "metadata": {},
                    "execution_count": 23,
                    "data": {
                        "application/vnd.dataresource+json": {
                            "schema": {
                                "fields": [
                                    {
                                        "name": "Optimistic Users"
                                    }
                                ]
                            },
                            "data": [
                                {
                                    "0": "19926"
                                }
                            ]
                        },
                        "text/html": [
                            "<table>",
                            "<tr><th>Optimistic Users</th></tr>",
                            "<tr><td>19926</td></tr>",
                            "</table>"
                        ]
                    }
                }
            ],
            "execution_count": 23
        },
        {
            "cell_type": "markdown",
            "source": [
                "2. Write a query that returns the book ids of all books that have over 1000 ratings of 1 star or over 1000 ratings of 5 stars."
            ],
            "metadata": {
                "azdata_cell_guid": "7f849931-6c9c-4cd9-b3ba-66871052673d"
            },
            "attachments": {}
        },
        {
            "cell_type": "code",
            "source": [
                "SELECT TOP 10 best_book_id\r\n",
                "FROM BooksDB.dbo.books\r\n",
                "WHERE ratings_5 >= 1000\r\n",
                "UNION ALL\r\n",
                "SELECT TOP 10 best_book_id\r\n",
                "FROM BooksDB.dbo.books\r\n",
                "WHERE ratings_1 >= 1000\r\n",
                "ORDER BY best_book_id;\r\n",
                "\r\n",
                "--FOR SIMPLICITY, I AM ONLY SHOWING THE TOP 10, BUT THE FULL EXPRESSION RETURNED 12,232 ROWS\r\n",
                "\r\n",
                "--Mel's Code\r\n",
                "SELECT TOP 10 book_id\r\n",
                "FROM BooksDB.dbo.books AS b\r\n",
                "WHERE ratings_5 > 1000\r\n",
                "UNION\r\n",
                "SELECT TOP 10 book_id\r\n",
                "FROM BooksDB.dbo.books\r\n",
                "WHERE ratings_1 > 1000\r\n",
                "ORDER BY book_id;\r\n",
                "\r\n",
                "SELECT TOP 10 book_id\r\n",
                "FROM BooksDB.dbo.books\r\n",
                "WHERE ratings_1 > 1000 or ratings_5 > 1000\r\n",
                "Order by book_id;\r\n",
                ""
            ],
            "metadata": {
                "azdata_cell_guid": "bce732e3-1590-457b-b1f9-5319345ff790",
                "language": "sql",
                "tags": []
            },
            "outputs": [
                {
                    "output_type": "display_data",
                    "data": {
                        "text/html": "(20 rows affected)"
                    },
                    "metadata": {}
                },
                {
                    "output_type": "display_data",
                    "data": {
                        "text/html": "(10 rows affected)"
                    },
                    "metadata": {}
                },
                {
                    "output_type": "display_data",
                    "data": {
                        "text/html": "(10 rows affected)"
                    },
                    "metadata": {}
                },
                {
                    "output_type": "display_data",
                    "data": {
                        "text/html": "Total execution time: 00:00:00.104"
                    },
                    "metadata": {}
                },
                {
                    "output_type": "execute_result",
                    "metadata": {},
                    "execution_count": 27,
                    "data": {
                        "application/vnd.dataresource+json": {
                            "schema": {
                                "fields": [
                                    {
                                        "name": "best_book_id"
                                    }
                                ]
                            },
                            "data": [
                                {
                                    "0": "3"
                                },
                                {
                                    "0": "3"
                                },
                                {
                                    "0": "960"
                                },
                                {
                                    "0": "960"
                                },
                                {
                                    "0": "1885"
                                },
                                {
                                    "0": "1885"
                                },
                                {
                                    "0": "2657"
                                },
                                {
                                    "0": "2657"
                                },
                                {
                                    "0": "4671"
                                },
                                {
                                    "0": "4671"
                                },
                                {
                                    "0": "5107"
                                },
                                {
                                    "0": "5107"
                                },
                                {
                                    "0": "5907"
                                },
                                {
                                    "0": "5907"
                                },
                                {
                                    "0": "41865"
                                },
                                {
                                    "0": "41865"
                                },
                                {
                                    "0": "2767052"
                                },
                                {
                                    "0": "2767052"
                                },
                                {
                                    "0": "11870085"
                                },
                                {
                                    "0": "11870085"
                                }
                            ]
                        },
                        "text/html": [
                            "<table>",
                            "<tr><th>best_book_id</th></tr>",
                            "<tr><td>3</td></tr>",
                            "<tr><td>3</td></tr>",
                            "<tr><td>960</td></tr>",
                            "<tr><td>960</td></tr>",
                            "<tr><td>1885</td></tr>",
                            "<tr><td>1885</td></tr>",
                            "<tr><td>2657</td></tr>",
                            "<tr><td>2657</td></tr>",
                            "<tr><td>4671</td></tr>",
                            "<tr><td>4671</td></tr>",
                            "<tr><td>5107</td></tr>",
                            "<tr><td>5107</td></tr>",
                            "<tr><td>5907</td></tr>",
                            "<tr><td>5907</td></tr>",
                            "<tr><td>41865</td></tr>",
                            "<tr><td>41865</td></tr>",
                            "<tr><td>2767052</td></tr>",
                            "<tr><td>2767052</td></tr>",
                            "<tr><td>11870085</td></tr>",
                            "<tr><td>11870085</td></tr>",
                            "</table>"
                        ]
                    }
                },
                {
                    "output_type": "execute_result",
                    "metadata": {},
                    "execution_count": 27,
                    "data": {
                        "application/vnd.dataresource+json": {
                            "schema": {
                                "fields": [
                                    {
                                        "name": "book_id"
                                    }
                                ]
                            },
                            "data": [
                                {
                                    "0": "3"
                                },
                                {
                                    "0": "960"
                                },
                                {
                                    "0": "1885"
                                },
                                {
                                    "0": "2657"
                                },
                                {
                                    "0": "4671"
                                },
                                {
                                    "0": "5107"
                                },
                                {
                                    "0": "5907"
                                },
                                {
                                    "0": "41865"
                                },
                                {
                                    "0": "2767052"
                                },
                                {
                                    "0": "11870085"
                                }
                            ]
                        },
                        "text/html": [
                            "<table>",
                            "<tr><th>book_id</th></tr>",
                            "<tr><td>3</td></tr>",
                            "<tr><td>960</td></tr>",
                            "<tr><td>1885</td></tr>",
                            "<tr><td>2657</td></tr>",
                            "<tr><td>4671</td></tr>",
                            "<tr><td>5107</td></tr>",
                            "<tr><td>5907</td></tr>",
                            "<tr><td>41865</td></tr>",
                            "<tr><td>2767052</td></tr>",
                            "<tr><td>11870085</td></tr>",
                            "</table>"
                        ]
                    }
                },
                {
                    "output_type": "execute_result",
                    "metadata": {},
                    "execution_count": 27,
                    "data": {
                        "application/vnd.dataresource+json": {
                            "schema": {
                                "fields": [
                                    {
                                        "name": "book_id"
                                    }
                                ]
                            },
                            "data": [
                                {
                                    "0": "1"
                                },
                                {
                                    "0": "2"
                                },
                                {
                                    "0": "3"
                                },
                                {
                                    "0": "5"
                                },
                                {
                                    "0": "6"
                                },
                                {
                                    "0": "8"
                                },
                                {
                                    "0": "10"
                                },
                                {
                                    "0": "11"
                                },
                                {
                                    "0": "13"
                                },
                                {
                                    "0": "21"
                                }
                            ]
                        },
                        "text/html": [
                            "<table>",
                            "<tr><th>book_id</th></tr>",
                            "<tr><td>1</td></tr>",
                            "<tr><td>2</td></tr>",
                            "<tr><td>3</td></tr>",
                            "<tr><td>5</td></tr>",
                            "<tr><td>6</td></tr>",
                            "<tr><td>8</td></tr>",
                            "<tr><td>10</td></tr>",
                            "<tr><td>11</td></tr>",
                            "<tr><td>13</td></tr>",
                            "<tr><td>21</td></tr>",
                            "</table>"
                        ]
                    }
                }
            ],
            "execution_count": 27
        },
        {
            "cell_type": "markdown",
            "source": [
                "3. Write a query that returns the book ids of all books that have over 1000 ratings of 1 star and over 1000 ratings of 5 stars."
            ],
            "metadata": {
                "azdata_cell_guid": "9c53b866-c8e8-465e-b089-7702b191a15e"
            },
            "attachments": {}
        },
        {
            "cell_type": "code",
            "source": [
                "SELECT TOP 10 best_book_id\r\n",
                "FROM BooksDB.dbo.books\r\n",
                "WHERE ratings_5 >= 1000\r\n",
                "INTERSECT\r\n",
                "SELECT TOP 10 best_book_id\r\n",
                "FROM BooksDB.dbo.books\r\n",
                "WHERE ratings_1 >= 1000;\r\n",
                "\r\n",
                "--FOR SIMPLICITY, I AM ONLY SHOWING THE TOP 10, BUT THE FULL EXPRESSION RETURNED 2236 ROWS\r\n",
                "\r\n",
                "--Mel's Code (CAN ALSO BE ACCOMPLISHED WITH AND STATEMENT)\r\n",
                "SELECT TOP 10 best_book_id\r\n",
                "FROM BooksDB.dbo.books\r\n",
                "WHERE ratings_5 > 1000\r\n",
                "INTERSECT\r\n",
                "SELECT TOP 10 best_book_id\r\n",
                "FROM BooksDB.dbo.books\r\n",
                "WHERE ratings_1 > 1000\r\n",
                "ORDER BY best_book_id ASC;"
            ],
            "metadata": {
                "azdata_cell_guid": "43e39973-5a29-45ff-b2a9-9c658a19c296",
                "language": "sql"
            },
            "outputs": [
                {
                    "output_type": "display_data",
                    "data": {
                        "text/html": "(10 rows affected)"
                    },
                    "metadata": {}
                },
                {
                    "output_type": "display_data",
                    "data": {
                        "text/html": "(10 rows affected)"
                    },
                    "metadata": {}
                },
                {
                    "output_type": "display_data",
                    "data": {
                        "text/html": "Total execution time: 00:00:00.098"
                    },
                    "metadata": {}
                },
                {
                    "output_type": "execute_result",
                    "metadata": {},
                    "execution_count": 28,
                    "data": {
                        "application/vnd.dataresource+json": {
                            "schema": {
                                "fields": [
                                    {
                                        "name": "best_book_id"
                                    }
                                ]
                            },
                            "data": [
                                {
                                    "0": "3"
                                },
                                {
                                    "0": "960"
                                },
                                {
                                    "0": "1885"
                                },
                                {
                                    "0": "2657"
                                },
                                {
                                    "0": "4671"
                                },
                                {
                                    "0": "5107"
                                },
                                {
                                    "0": "5907"
                                },
                                {
                                    "0": "41865"
                                },
                                {
                                    "0": "2767052"
                                },
                                {
                                    "0": "11870085"
                                }
                            ]
                        },
                        "text/html": [
                            "<table>",
                            "<tr><th>best_book_id</th></tr>",
                            "<tr><td>3</td></tr>",
                            "<tr><td>960</td></tr>",
                            "<tr><td>1885</td></tr>",
                            "<tr><td>2657</td></tr>",
                            "<tr><td>4671</td></tr>",
                            "<tr><td>5107</td></tr>",
                            "<tr><td>5907</td></tr>",
                            "<tr><td>41865</td></tr>",
                            "<tr><td>2767052</td></tr>",
                            "<tr><td>11870085</td></tr>",
                            "</table>"
                        ]
                    }
                },
                {
                    "output_type": "execute_result",
                    "metadata": {},
                    "execution_count": 28,
                    "data": {
                        "application/vnd.dataresource+json": {
                            "schema": {
                                "fields": [
                                    {
                                        "name": "best_book_id"
                                    }
                                ]
                            },
                            "data": [
                                {
                                    "0": "3"
                                },
                                {
                                    "0": "960"
                                },
                                {
                                    "0": "1885"
                                },
                                {
                                    "0": "2657"
                                },
                                {
                                    "0": "4671"
                                },
                                {
                                    "0": "5107"
                                },
                                {
                                    "0": "5907"
                                },
                                {
                                    "0": "41865"
                                },
                                {
                                    "0": "2767052"
                                },
                                {
                                    "0": "11870085"
                                }
                            ]
                        },
                        "text/html": [
                            "<table>",
                            "<tr><th>best_book_id</th></tr>",
                            "<tr><td>3</td></tr>",
                            "<tr><td>960</td></tr>",
                            "<tr><td>1885</td></tr>",
                            "<tr><td>2657</td></tr>",
                            "<tr><td>4671</td></tr>",
                            "<tr><td>5107</td></tr>",
                            "<tr><td>5907</td></tr>",
                            "<tr><td>41865</td></tr>",
                            "<tr><td>2767052</td></tr>",
                            "<tr><td>11870085</td></tr>",
                            "</table>"
                        ]
                    }
                }
            ],
            "execution_count": 28
        },
        {
            "cell_type": "markdown",
            "source": [
                "4. Write a query that returns the book ids of books that have a language code of \"en-US\" and not a langugae code of \"en-GB\"."
            ],
            "metadata": {
                "azdata_cell_guid": "2bd4844b-83af-490f-97cd-fdc1fa2944ec"
            },
            "attachments": {}
        },
        {
            "cell_type": "code",
            "source": [
                "SELECT TOP 10 best_book_id, language_code\r\n",
                "FROM BooksDB.dbo.books\r\n",
                "WHERE language_code = 'en-US'\r\n",
                "EXCEPT \r\n",
                "SELECT best_book_id, language_code\r\n",
                "FROM BooksDB.dbo.books\r\n",
                "WHERE language_code = 'en-GB'; \r\n",
                "\r\n",
                "--FOR SIMPLICITY, I AM ONLY SHOWING THE TOP 10, BUT THE FULL EXPRESSION RETURNED 2070 ROWS\r\n",
                "\r\n",
                "--Mel's Code (CAN USE the first part and get the same result too)\r\n",
                "SELECT TOP 10 best_book_id\r\n",
                "FROM BooksDB.dbo.books\r\n",
                "WHERE language_code = 'en-US'\r\n",
                "EXCEPT \r\n",
                "SELECT best_book_id\r\n",
                "FROM BooksDB.dbo.books\r\n",
                "WHERE language_code = 'en-GB';"
            ],
            "metadata": {
                "azdata_cell_guid": "ba5a1b61-19c0-4d70-ae8d-2daae6ae1e21",
                "language": "sql"
            },
            "outputs": [
                {
                    "output_type": "display_data",
                    "data": {
                        "text/html": "(10 rows affected)"
                    },
                    "metadata": {}
                },
                {
                    "output_type": "display_data",
                    "data": {
                        "text/html": "(10 rows affected)"
                    },
                    "metadata": {}
                },
                {
                    "output_type": "display_data",
                    "data": {
                        "text/html": "Total execution time: 00:00:00.087"
                    },
                    "metadata": {}
                },
                {
                    "output_type": "execute_result",
                    "metadata": {},
                    "execution_count": 29,
                    "data": {
                        "application/vnd.dataresource+json": {
                            "schema": {
                                "fields": [
                                    {
                                        "name": "best_book_id"
                                    },
                                    {
                                        "name": "language_code"
                                    }
                                ]
                            },
                            "data": [
                                {
                                    "0": "1934",
                                    "1": "en-US"
                                },
                                {
                                    "0": "5907",
                                    "1": "en-US"
                                },
                                {
                                    "0": "37435",
                                    "1": "en-US"
                                },
                                {
                                    "0": "41865",
                                    "1": "en-US"
                                },
                                {
                                    "0": "113436",
                                    "1": "en-US"
                                },
                                {
                                    "0": "386162",
                                    "1": "en-US"
                                },
                                {
                                    "0": "428263",
                                    "1": "en-US"
                                },
                                {
                                    "0": "1162543",
                                    "1": "en-US"
                                },
                                {
                                    "0": "1656001",
                                    "1": "en-US"
                                },
                                {
                                    "0": "6442769",
                                    "1": "en-US"
                                }
                            ]
                        },
                        "text/html": [
                            "<table>",
                            "<tr><th>best_book_id</th><th>language_code</th></tr>",
                            "<tr><td>1934</td><td>en-US</td></tr>",
                            "<tr><td>5907</td><td>en-US</td></tr>",
                            "<tr><td>37435</td><td>en-US</td></tr>",
                            "<tr><td>41865</td><td>en-US</td></tr>",
                            "<tr><td>113436</td><td>en-US</td></tr>",
                            "<tr><td>386162</td><td>en-US</td></tr>",
                            "<tr><td>428263</td><td>en-US</td></tr>",
                            "<tr><td>1162543</td><td>en-US</td></tr>",
                            "<tr><td>1656001</td><td>en-US</td></tr>",
                            "<tr><td>6442769</td><td>en-US</td></tr>",
                            "</table>"
                        ]
                    }
                },
                {
                    "output_type": "execute_result",
                    "metadata": {},
                    "execution_count": 29,
                    "data": {
                        "application/vnd.dataresource+json": {
                            "schema": {
                                "fields": [
                                    {
                                        "name": "best_book_id"
                                    }
                                ]
                            },
                            "data": [
                                {
                                    "0": "1934"
                                },
                                {
                                    "0": "5907"
                                },
                                {
                                    "0": "37435"
                                },
                                {
                                    "0": "41865"
                                },
                                {
                                    "0": "113436"
                                },
                                {
                                    "0": "386162"
                                },
                                {
                                    "0": "428263"
                                },
                                {
                                    "0": "1162543"
                                },
                                {
                                    "0": "1656001"
                                },
                                {
                                    "0": "6442769"
                                }
                            ]
                        },
                        "text/html": [
                            "<table>",
                            "<tr><th>best_book_id</th></tr>",
                            "<tr><td>1934</td></tr>",
                            "<tr><td>5907</td></tr>",
                            "<tr><td>37435</td></tr>",
                            "<tr><td>41865</td></tr>",
                            "<tr><td>113436</td></tr>",
                            "<tr><td>386162</td></tr>",
                            "<tr><td>428263</td></tr>",
                            "<tr><td>1162543</td></tr>",
                            "<tr><td>1656001</td></tr>",
                            "<tr><td>6442769</td></tr>",
                            "</table>"
                        ]
                    }
                }
            ],
            "execution_count": 29
        },
        {
            "cell_type": "markdown",
            "source": [
                "5. Write a query that returns the names of the tags and the tag ids for tags that were used over 100,000 times for a book. "
            ],
            "metadata": {
                "azdata_cell_guid": "6ddd588f-a84c-4c77-93ac-e8c8bd21d0f5"
            },
            "attachments": {}
        },
        {
            "cell_type": "code",
            "source": [
                "--COULDN'T GET THIS CODE TO WORK RIGHT\r\n",
                "/*\r\n",
                "SELECT TOP 10 tag_id, tag_name\r\n",
                "FROM BooksDB.dbo.tags\r\n",
                "UNION\r\n",
                "SELECT TOP 10 tag_id, str(count) AS 'Count'\r\n",
                "FROM BooksDB.dbo.book_tags\r\n",
                "WHERE count > 100000\r\n",
                "ORDER BY tag_id DESC;\r\n",
                "--FOR SIMPLICITY, I AM ONLY SHOWING THE TOP 10, BUT THE FULL EXPRESSION RETURNED 34459 ROWS\r\n",
                "*/\r\n",
                "\r\n",
                "\r\n",
                "SELECT tag_id, tag_name\r\n",
                "FROM BooksDB.dbo.tags\r\n",
                "WHERE tag_id IN (\r\n",
                "    SELECT tag_id\r\n",
                "    FROM BooksDB.dbo.book_tags\r\n",
                "    WHERE count > 100000\r\n",
                ");\r\n",
                "\r\n",
                "\r\n",
                "\r\n",
                "--USED THIS CODE TO DOUBLE CHECK THE CODE ABOVE; THERE IS ONLY TAG_ID 30574 IN TAG_ID THAT POPS UP\r\n",
                "/*\r\n",
                "SELECT t.tag_id, t.tag_name, bt.count \r\n",
                "FROM BooksDB.dbo.tags as t \r\n",
                "JOIN BooksDB.dbo.book_tags as bt ON t.tag_id = bt.tag_id \r\n",
                "WHERE bt.count > 100000\r\n",
                "ORDER BY bt.count DESC;\r\n",
                "*/\r\n",
                "\r\n",
                "--Mel's Code:\r\n",
                "SELECT tag_id, tag_name\r\n",
                "FROM BooksDB.dbo.tags\r\n",
                "WHERE tag_id IN (\r\n",
                "    SELECT tag_id\r\n",
                "    FROM BooksDB.dbo.book_tags\r\n",
                "    WHERE count > 100000\r\n",
                ");\r\n",
                "\r\n",
                ""
            ],
            "metadata": {
                "azdata_cell_guid": "90f61ad7-65cb-4ea8-85a3-d8c815cfe347",
                "tags": [],
                "language": "sql"
            },
            "outputs": [
                {
                    "output_type": "display_data",
                    "data": {
                        "text/html": "(1 row affected)"
                    },
                    "metadata": {}
                },
                {
                    "output_type": "display_data",
                    "data": {
                        "text/html": "(1 row affected)"
                    },
                    "metadata": {}
                },
                {
                    "output_type": "display_data",
                    "data": {
                        "text/html": "Total execution time: 00:00:00.200"
                    },
                    "metadata": {}
                },
                {
                    "output_type": "execute_result",
                    "metadata": {},
                    "execution_count": 31,
                    "data": {
                        "application/vnd.dataresource+json": {
                            "schema": {
                                "fields": [
                                    {
                                        "name": "tag_id"
                                    },
                                    {
                                        "name": "tag_name"
                                    }
                                ]
                            },
                            "data": [
                                {
                                    "0": "30574",
                                    "1": "to-read"
                                }
                            ]
                        },
                        "text/html": [
                            "<table>",
                            "<tr><th>tag_id</th><th>tag_name</th></tr>",
                            "<tr><td>30574</td><td>to-read</td></tr>",
                            "</table>"
                        ]
                    }
                },
                {
                    "output_type": "execute_result",
                    "metadata": {},
                    "execution_count": 31,
                    "data": {
                        "application/vnd.dataresource+json": {
                            "schema": {
                                "fields": [
                                    {
                                        "name": "tag_id"
                                    },
                                    {
                                        "name": "tag_name"
                                    }
                                ]
                            },
                            "data": [
                                {
                                    "0": "30574",
                                    "1": "to-read"
                                }
                            ]
                        },
                        "text/html": [
                            "<table>",
                            "<tr><th>tag_id</th><th>tag_name</th></tr>",
                            "<tr><td>30574</td><td>to-read</td></tr>",
                            "</table>"
                        ]
                    }
                }
            ],
            "execution_count": 31
        }
    ]
}